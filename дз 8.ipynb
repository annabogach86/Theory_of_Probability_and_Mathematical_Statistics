{
 "cells": [
  {
   "cell_type": "markdown",
   "id": "58e1fcc9",
   "metadata": {},
   "source": [
    "# Урок 8. Дисперсионный анализ. Логистическая регрессия"
   ]
  },
  {
   "cell_type": "code",
   "execution_count": 2,
   "id": "a8e9dac3",
   "metadata": {},
   "outputs": [],
   "source": [
    "import numpy as np\n",
    "from scipy import stats"
   ]
  },
  {
   "cell_type": "markdown",
   "id": "4127395e",
   "metadata": {},
   "source": [
    "1. Провести дисперсионный анализ для определения того, есть ли различия среднего роста среди взрослых футболистов, хоккеистов и штангистов. Даны значения роста в трех группах случайно выбранных спортсменов: Футболисты: 173, 175, 180, 178, 177, 185, 183, 182. Хоккеисты: 177, 179, 180, 188, 177, 172, 171, 184, 180. Штангисты: 172, 173, 169, 177, 166, 180, 178, 177, 172, 166, 170. alpha = 0.05."
   ]
  },
  {
   "cell_type": "code",
   "execution_count": 3,
   "id": "379dc062",
   "metadata": {},
   "outputs": [],
   "source": [
    "y1 = np.array([173, 175, 180, 178, 177, 185, 183, 182])\n",
    "y2 = np.array([177, 179, 180, 188, 177, 172, 171, 184, 180])\n",
    "y3 = np.array([172, 173, 169, 177, 166, 180, 178, 177, 172, 166, 170])\n",
    "k = 3"
   ]
  },
  {
   "cell_type": "code",
   "execution_count": 4,
   "id": "8634b648",
   "metadata": {},
   "outputs": [
    {
     "data": {
      "text/plain": [
       "28"
      ]
     },
     "execution_count": 4,
     "metadata": {},
     "output_type": "execute_result"
    }
   ],
   "source": [
    "n1 = len(y1)\n",
    "n2 = len(y2)\n",
    "n3 = len(y3)\n",
    "n = n1 + n2 + n3\n",
    "n"
   ]
  },
  {
   "cell_type": "code",
   "execution_count": 5,
   "id": "d6b69469",
   "metadata": {},
   "outputs": [],
   "source": [
    "alpha = 0.05\n",
    "F_T = 3.38"
   ]
  },
  {
   "cell_type": "code",
   "execution_count": 6,
   "id": "1a4410a2",
   "metadata": {},
   "outputs": [
    {
     "data": {
      "text/plain": [
       "(179.125, 178.66666666666666, 172.72727272727272)"
      ]
     },
     "execution_count": 6,
     "metadata": {},
     "output_type": "execute_result"
    }
   ],
   "source": [
    "y1_mean = np.mean(y1)\n",
    "y2_mean = np.mean(y2)\n",
    "y3_mean = np.mean(y3)\n",
    "y1_mean, y2_mean, y3_mean"
   ]
  },
  {
   "cell_type": "code",
   "execution_count": 7,
   "id": "7fd788ac",
   "metadata": {},
   "outputs": [
    {
     "data": {
      "text/plain": [
       "176.46428571428572"
      ]
     },
     "execution_count": 7,
     "metadata": {},
     "output_type": "execute_result"
    }
   ],
   "source": [
    "y = np.concatenate([y1, y2, y3])\n",
    "y_mean = np.mean(y)\n",
    "y_mean"
   ]
  },
  {
   "cell_type": "code",
   "execution_count": 8,
   "id": "9a57981d",
   "metadata": {},
   "outputs": [
    {
     "data": {
      "text/plain": [
       "830.9642857142854"
      ]
     },
     "execution_count": 8,
     "metadata": {},
     "output_type": "execute_result"
    }
   ],
   "source": [
    "S2 = np.sum((y - y_mean)**2)\n",
    "S2"
   ]
  },
  {
   "cell_type": "code",
   "execution_count": 9,
   "id": "c0083b65",
   "metadata": {},
   "outputs": [
    {
     "data": {
      "text/plain": [
       "253.9074675324678"
      ]
     },
     "execution_count": 9,
     "metadata": {},
     "output_type": "execute_result"
    }
   ],
   "source": [
    "S2_F = ((y1_mean - y_mean)**2) * n1 + ((y2_mean - y_mean)**2) * n2 + ((y3_mean - y_mean)**2) * n3\n",
    "S2_F"
   ]
  },
  {
   "cell_type": "code",
   "execution_count": 10,
   "id": "9bbc475d",
   "metadata": {},
   "outputs": [
    {
     "data": {
      "text/plain": [
       "577.0568181818182"
      ]
     },
     "execution_count": 10,
     "metadata": {},
     "output_type": "execute_result"
    }
   ],
   "source": [
    "S2_R = np.sum((y1 - y1_mean)**2) + np.sum((y2 - y2_mean)**2) + np.sum((y3 - y3_mean)**2)\n",
    "S2_R"
   ]
  },
  {
   "cell_type": "code",
   "execution_count": 11,
   "id": "02cba50e",
   "metadata": {},
   "outputs": [
    {
     "data": {
      "text/plain": [
       "(830.9642857142854, 830.964285714286)"
      ]
     },
     "execution_count": 11,
     "metadata": {},
     "output_type": "execute_result"
    }
   ],
   "source": [
    "S2, S2_F + S2_R"
   ]
  },
  {
   "cell_type": "code",
   "execution_count": 12,
   "id": "6d49ac51",
   "metadata": {},
   "outputs": [
    {
     "data": {
      "text/plain": [
       "126.9537337662339"
      ]
     },
     "execution_count": 12,
     "metadata": {},
     "output_type": "execute_result"
    }
   ],
   "source": [
    "sigma2_F = S2_F / (k - 1)\n",
    "sigma2_F"
   ]
  },
  {
   "cell_type": "code",
   "execution_count": 13,
   "id": "652a241c",
   "metadata": {},
   "outputs": [
    {
     "data": {
      "text/plain": [
       "23.08227272727273"
      ]
     },
     "execution_count": 13,
     "metadata": {},
     "output_type": "execute_result"
    }
   ],
   "source": [
    "sigma2_R = S2_R / (n - k)\n",
    "sigma2_R"
   ]
  },
  {
   "cell_type": "code",
   "execution_count": 14,
   "id": "5edb0f18",
   "metadata": {},
   "outputs": [
    {
     "data": {
      "text/plain": [
       "5.500053450812598"
      ]
     },
     "execution_count": 14,
     "metadata": {},
     "output_type": "execute_result"
    }
   ],
   "source": [
    "F_H = sigma2_F / sigma2_R\n",
    "F_H"
   ]
  },
  {
   "cell_type": "code",
   "execution_count": 15,
   "id": "abf3bda5",
   "metadata": {},
   "outputs": [
    {
     "data": {
      "text/plain": [
       "(5.500053450812598,\n",
       " F_onewayResult(statistic=5.500053450812596, pvalue=0.010482206918698694))"
      ]
     },
     "execution_count": 15,
     "metadata": {},
     "output_type": "execute_result"
    }
   ],
   "source": [
    "F_H, stats.f_oneway(y1, y2, y3)"
   ]
  },
  {
   "cell_type": "code",
   "execution_count": 16,
   "id": "7d8a0a0a",
   "metadata": {},
   "outputs": [
    {
     "name": "stdout",
     "output_type": "stream",
     "text": [
      "различие среднего роста в трех группах спортсменов является статистически значимым на уровне значимости 0.05\n"
     ]
    }
   ],
   "source": [
    "if F_H > F_T:\n",
    "    print(f'различие среднего роста в трех группах спортсменов является статистически значимым на уровне значимости {alpha}')\n",
    "else:\n",
    "    print(f'различие среднего роста в трех группах спортсменов не является статистически значимым на уровне значимости {alpha}')"
   ]
  },
  {
   "cell_type": "markdown",
   "id": "a2af1d70",
   "metadata": {},
   "source": [
    "# Курсовой проект"
   ]
  },
  {
   "cell_type": "markdown",
   "id": "d19aba2b",
   "metadata": {},
   "source": [
    " Проверка статистических гипотез. "
   ]
  },
  {
   "cell_type": "markdown",
   "id": "9e3c3baf",
   "metadata": {},
   "source": [
    "Средняя стоимость 3-х комнатных квартир в Екатеринбурге  по данным ЦИАН 10 500 000 рублей. Взяли выборку из 10 квартир, которые выставлены на продажу. Стоимость каждой квартиры составляет:\n",
    "\n",
    "10 705 905\n",
    "\n",
    "10 599 840\n",
    "\n",
    "10 528 070\n",
    "\n",
    "10 485 915\n",
    "\n",
    "10 358 660\n",
    "\n",
    "10 283 188\n",
    "\n",
    "10 490 650\n",
    "\n",
    "10 601 115\n",
    "\n",
    "10 539 075\n",
    "\n",
    "10 135 870\n",
    "\n",
    "Известно, что их стоимость распределена нормально. Верно ли утверждение, если учитывать, что доверительная вероятность равна 98%?"
   ]
  },
  {
   "cell_type": "markdown",
   "id": "5f5901c0",
   "metadata": {},
   "source": [
    "H_0: средняя стоимость равна 10 500 000 р\n",
    "\n",
    "H_1: средняя стоимость не равена 10 500 000 р"
   ]
  },
  {
   "cell_type": "code",
   "execution_count": 21,
   "id": "4f3a91da",
   "metadata": {},
   "outputs": [
    {
     "data": {
      "text/plain": [
       "(10472828.8, 169109.4592431515)"
      ]
     },
     "execution_count": 21,
     "metadata": {},
     "output_type": "execute_result"
    }
   ],
   "source": [
    "data = [10705905, 10599840, 10528070, 10485915, 10358660, 10283188, 10490650, 10601115, 10539075, 10135870]\n",
    "M = 10500000\n",
    "X_mean = np.mean(data)\n",
    "sigma = np.std(data, ddof=1)\n",
    "n = 10\n",
    "alpha = 0.02\n",
    "t_t_r = 3.250\n",
    "t_t_l = -3.250\n",
    "X_mean, sigma"
   ]
  },
  {
   "cell_type": "code",
   "execution_count": 22,
   "id": "0113bf70",
   "metadata": {},
   "outputs": [
    {
     "name": "stdout",
     "output_type": "stream",
     "text": [
      "-0.5080903170320106\n",
      "верна гипотеза H_0 на уровне значимости 0.02\n"
     ]
    }
   ],
   "source": [
    "t_n = (X_mean - M) / (sigma / n**0.5)\n",
    "print(t_n)\n",
    "if t_n < t_t_r and t_n > t_t_l:\n",
    "    print(f'верна гипотеза H_0 на уровне значимости {alpha}')\n",
    "else:\n",
    "    print(f'верна гипотеза H_1 на уровне значимости {alpha}')"
   ]
  }
 ],
 "metadata": {
  "kernelspec": {
   "display_name": "Python 3 (ipykernel)",
   "language": "python",
   "name": "python3"
  },
  "language_info": {
   "codemirror_mode": {
    "name": "ipython",
    "version": 3
   },
   "file_extension": ".py",
   "mimetype": "text/x-python",
   "name": "python",
   "nbconvert_exporter": "python",
   "pygments_lexer": "ipython3",
   "version": "3.9.7"
  }
 },
 "nbformat": 4,
 "nbformat_minor": 5
}
